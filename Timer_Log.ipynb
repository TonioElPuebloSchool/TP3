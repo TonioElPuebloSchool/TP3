{
 "cells": [
  {
   "cell_type": "markdown",
   "metadata": {},
   "source": [
    "***Created by Antoine Courbi***"
   ]
  },
  {
   "cell_type": "markdown",
   "metadata": {},
   "source": [
    "# Timer Log"
   ]
  },
  {
   "cell_type": "markdown",
   "metadata": {},
   "source": [
    "## Implement decorator"
   ]
  },
  {
   "cell_type": "markdown",
   "metadata": {},
   "source": [
    "Ok so first what is a decorator :\n",
    "```bash\n",
    "...add new functionality to an existing object without modifying its structure\n",
    "```\n",
    "*from [here](https://www.datacamp.com/tutorial/decorators-python)*\n",
    "```bash\n",
    "...a function that takes another function and extends the behavior of the latter function without explicitly modifying it\n",
    "```\n",
    "*from [here](https://realpython.com/primer-on-python-decorators/)*"
   ]
  },
  {
   "cell_type": "markdown",
   "metadata": {},
   "source": [
    "Now that we now everything about `decorators`, lets build one!  \n",
    "We want our `decorator` to log the **execution time** of a function.  \n",
    "So we are going to create a function named `timing_decorator` that will take a function as argument and return a function.  \n",
    "The function returned would be named `wrapper` and will take the same arguments as the function passed to the `decorator`."
   ]
  },
  {
   "cell_type": "code",
   "execution_count": 40,
   "metadata": {},
   "outputs": [],
   "source": [
    "import time\n",
    "\n",
    "def timing_decorator(func):\n",
    "    def wrapper(*args, **kwargs):\n",
    "        start_time = time.time()\n",
    "        result = func(*args, **kwargs)\n",
    "        end_time = time.time()\n",
    "        execution_time = end_time - start_time\n",
    "        print(f\"{func.__name__} took {execution_time:.6f} seconds to execute.\")\n",
    "        # now we return the execution time\n",
    "        return execution_time \n",
    "    return wrapper"
   ]
  },
  {
   "cell_type": "markdown",
   "metadata": {},
   "source": [
    "## Counting functions"
   ]
  },
  {
   "cell_type": "markdown",
   "metadata": {},
   "source": [
    "Now that we have our decorator, we want to create two functions that count the number of appearances of each word in a text.  \n",
    "The first one will be using a dictionary and the second one will be using a `Counter` object from the `collections` module."
   ]
  },
  {
   "cell_type": "code",
   "execution_count": 41,
   "metadata": {},
   "outputs": [],
   "source": [
    "@timing_decorator\n",
    "def count_words_with_dict(filename):\n",
    "    word_count = {}\n",
    "    with open(filename, 'r') as file:\n",
    "        for line in file:\n",
    "            words = line.split()\n",
    "            for word in words:\n",
    "                word_count[word] = word_count.get(word, 0) + 1\n",
    "    return word_count"
   ]
  },
  {
   "cell_type": "code",
   "execution_count": 42,
   "metadata": {},
   "outputs": [],
   "source": [
    "from collections import Counter\n",
    "\n",
    "@timing_decorator\n",
    "def count_words_with_counter(filename):\n",
    "    word_count = Counter()\n",
    "    with open(filename, 'r') as file:\n",
    "        for line in file:\n",
    "            words = line.split()\n",
    "            word_count.update(words)\n",
    "    return word_count"
   ]
  },
  {
   "cell_type": "markdown",
   "metadata": {},
   "source": [
    "Now we can try them out and see which one is the fastest."
   ]
  },
  {
   "cell_type": "code",
   "execution_count": 58,
   "metadata": {},
   "outputs": [
    {
     "name": "stdout",
     "output_type": "stream",
     "text": [
      "count_words_with_dict took 1.462050 seconds to execute.\n",
      "count_words_with_counter took 2.503820 seconds to execute.\n"
     ]
    }
   ],
   "source": [
    "# we first get the data from the file\n",
    "shakespeare_file = 'data/t8.shakespeare.txt'\n",
    "\n",
    "# and we can call the functions to get the results and execution time\n",
    "result_dict = count_words_with_dict(shakespeare_file)\n",
    "result_counter = count_words_with_counter(shakespeare_file)"
   ]
  },
  {
   "cell_type": "markdown",
   "metadata": {},
   "source": [
    "Results were :\n",
    "```bash\n",
    "count_words_with_dict took 1.462050 seconds to execute.\n",
    "count_words_with_counter took 2.503820 seconds to execute.\n",
    "```\n",
    "As we can see using a dictionary is faster than using a `Counter` object.  \n",
    "Looking on internet I found a nice topic([here](https://stackoverflow.com/questions/43956930/why-does-a-dictionary-count-in-some-cases-faster-than-collections-counter)) in which we can read the following :\n",
    "```bash\n",
    "[speaking about Counter]...So it isn't really surprising if other approaches are faster for short iterables. However for long iterables the check doesn't matter much and Counter should be faster\n",
    "```\n",
    "So we can assume that due to the small size of our text, the `Counter` object is slower than a dictionary."
   ]
  },
  {
   "cell_type": "markdown",
   "metadata": {},
   "source": [
    "## Increase Iterations"
   ]
  },
  {
   "cell_type": "markdown",
   "metadata": {},
   "source": [
    "Now we will peerform the same thing but 100 times."
   ]
  },
  {
   "cell_type": "code",
   "execution_count": 54,
   "metadata": {},
   "outputs": [
    {
     "name": "stdout",
     "output_type": "stream",
     "text": [
      "Running iteration 0/100\n",
      "count_words_with_dict took 1.692986 seconds to execute.\n",
      "count_words_with_counter took 1.662615 seconds to execute.\n",
      "Running iteration 1/100\n",
      "count_words_with_dict took 1.267677 seconds to execute.\n",
      "count_words_with_counter took 1.808972 seconds to execute.\n",
      "Running iteration 2/100\n",
      "count_words_with_dict took 1.865700 seconds to execute.\n",
      "count_words_with_counter took 1.506744 seconds to execute.\n",
      "Running iteration 3/100\n",
      "count_words_with_dict took 1.855532 seconds to execute.\n",
      "count_words_with_counter took 1.942700 seconds to execute.\n",
      "Running iteration 4/100\n",
      "count_words_with_dict took 1.265749 seconds to execute.\n",
      "count_words_with_counter took 1.487530 seconds to execute.\n",
      "Running iteration 5/100\n",
      "count_words_with_dict took 1.805315 seconds to execute.\n",
      "count_words_with_counter took 2.291260 seconds to execute.\n",
      "Running iteration 6/100\n",
      "count_words_with_dict took 1.708843 seconds to execute.\n",
      "count_words_with_counter took 1.975069 seconds to execute.\n",
      "Running iteration 7/100\n",
      "count_words_with_dict took 1.772710 seconds to execute.\n",
      "count_words_with_counter took 1.568906 seconds to execute.\n",
      "Running iteration 8/100\n",
      "count_words_with_dict took 1.957064 seconds to execute.\n",
      "count_words_with_counter took 1.985106 seconds to execute.\n",
      "Running iteration 9/100\n",
      "count_words_with_dict took 1.627209 seconds to execute.\n",
      "count_words_with_counter took 1.580523 seconds to execute.\n",
      "Running iteration 10/100\n",
      "count_words_with_dict took 1.540646 seconds to execute.\n",
      "count_words_with_counter took 1.983782 seconds to execute.\n",
      "Running iteration 11/100\n",
      "count_words_with_dict took 1.322685 seconds to execute.\n",
      "count_words_with_counter took 1.293615 seconds to execute.\n",
      "Running iteration 12/100\n",
      "count_words_with_dict took 1.623263 seconds to execute.\n",
      "count_words_with_counter took 1.795601 seconds to execute.\n",
      "Running iteration 13/100\n",
      "count_words_with_dict took 0.978416 seconds to execute.\n",
      "count_words_with_counter took 1.017268 seconds to execute.\n",
      "Running iteration 14/100\n",
      "count_words_with_dict took 1.256622 seconds to execute.\n",
      "count_words_with_counter took 1.129313 seconds to execute.\n",
      "Running iteration 15/100\n",
      "count_words_with_dict took 1.214521 seconds to execute.\n",
      "count_words_with_counter took 1.044331 seconds to execute.\n",
      "Running iteration 16/100\n",
      "count_words_with_dict took 0.959689 seconds to execute.\n",
      "count_words_with_counter took 1.003200 seconds to execute.\n",
      "Running iteration 17/100\n",
      "count_words_with_dict took 0.978091 seconds to execute.\n",
      "count_words_with_counter took 1.136193 seconds to execute.\n",
      "Running iteration 18/100\n",
      "count_words_with_dict took 1.169427 seconds to execute.\n",
      "count_words_with_counter took 1.151016 seconds to execute.\n",
      "Running iteration 19/100\n",
      "count_words_with_dict took 1.144441 seconds to execute.\n",
      "count_words_with_counter took 1.087365 seconds to execute.\n",
      "Running iteration 20/100\n",
      "count_words_with_dict took 1.692177 seconds to execute.\n",
      "count_words_with_counter took 1.021758 seconds to execute.\n",
      "Running iteration 21/100\n",
      "count_words_with_dict took 0.931345 seconds to execute.\n",
      "count_words_with_counter took 0.999709 seconds to execute.\n",
      "Running iteration 22/100\n",
      "count_words_with_dict took 1.012981 seconds to execute.\n",
      "count_words_with_counter took 1.350121 seconds to execute.\n",
      "Running iteration 23/100\n",
      "count_words_with_dict took 0.931786 seconds to execute.\n",
      "count_words_with_counter took 0.997350 seconds to execute.\n",
      "Running iteration 24/100\n",
      "count_words_with_dict took 0.934658 seconds to execute.\n",
      "count_words_with_counter took 0.991935 seconds to execute.\n",
      "Running iteration 25/100\n",
      "count_words_with_dict took 1.287054 seconds to execute.\n",
      "count_words_with_counter took 1.077970 seconds to execute.\n",
      "Running iteration 26/100\n",
      "count_words_with_dict took 1.021855 seconds to execute.\n",
      "count_words_with_counter took 1.149200 seconds to execute.\n",
      "Running iteration 27/100\n",
      "count_words_with_dict took 0.989090 seconds to execute.\n",
      "count_words_with_counter took 1.172415 seconds to execute.\n",
      "Running iteration 28/100\n",
      "count_words_with_dict took 1.134682 seconds to execute.\n",
      "count_words_with_counter took 1.375826 seconds to execute.\n",
      "Running iteration 29/100\n",
      "count_words_with_dict took 1.229171 seconds to execute.\n",
      "count_words_with_counter took 1.131096 seconds to execute.\n",
      "Running iteration 30/100\n",
      "count_words_with_dict took 1.326061 seconds to execute.\n",
      "count_words_with_counter took 1.003665 seconds to execute.\n",
      "Running iteration 31/100\n",
      "count_words_with_dict took 0.913824 seconds to execute.\n",
      "count_words_with_counter took 0.991080 seconds to execute.\n",
      "Running iteration 32/100\n",
      "count_words_with_dict took 0.989903 seconds to execute.\n",
      "count_words_with_counter took 1.632952 seconds to execute.\n",
      "Running iteration 33/100\n",
      "count_words_with_dict took 0.978871 seconds to execute.\n",
      "count_words_with_counter took 0.984197 seconds to execute.\n",
      "Running iteration 34/100\n",
      "count_words_with_dict took 0.954062 seconds to execute.\n",
      "count_words_with_counter took 1.023201 seconds to execute.\n",
      "Running iteration 35/100\n",
      "count_words_with_dict took 1.387469 seconds to execute.\n",
      "count_words_with_counter took 1.015665 seconds to execute.\n",
      "Running iteration 36/100\n",
      "count_words_with_dict took 0.940178 seconds to execute.\n",
      "count_words_with_counter took 1.000305 seconds to execute.\n",
      "Running iteration 37/100\n",
      "count_words_with_dict took 1.158287 seconds to execute.\n",
      "count_words_with_counter took 1.074202 seconds to execute.\n",
      "Running iteration 38/100\n",
      "count_words_with_dict took 1.271726 seconds to execute.\n",
      "count_words_with_counter took 1.244910 seconds to execute.\n",
      "Running iteration 39/100\n",
      "count_words_with_dict took 0.929978 seconds to execute.\n",
      "count_words_with_counter took 1.015138 seconds to execute.\n",
      "Running iteration 40/100\n",
      "count_words_with_dict took 1.155674 seconds to execute.\n",
      "count_words_with_counter took 1.283009 seconds to execute.\n",
      "Running iteration 41/100\n",
      "count_words_with_dict took 1.767403 seconds to execute.\n",
      "count_words_with_counter took 1.128366 seconds to execute.\n",
      "Running iteration 42/100\n",
      "count_words_with_dict took 1.280395 seconds to execute.\n",
      "count_words_with_counter took 1.203417 seconds to execute.\n",
      "Running iteration 43/100\n",
      "count_words_with_dict took 0.933417 seconds to execute.\n",
      "count_words_with_counter took 0.966243 seconds to execute.\n",
      "Running iteration 44/100\n",
      "count_words_with_dict took 1.166939 seconds to execute.\n",
      "count_words_with_counter took 1.186293 seconds to execute.\n",
      "Running iteration 45/100\n",
      "count_words_with_dict took 1.564064 seconds to execute.\n",
      "count_words_with_counter took 1.170542 seconds to execute.\n",
      "Running iteration 46/100\n",
      "count_words_with_dict took 2.068922 seconds to execute.\n",
      "count_words_with_counter took 1.915879 seconds to execute.\n",
      "Running iteration 47/100\n",
      "count_words_with_dict took 1.290919 seconds to execute.\n",
      "count_words_with_counter took 1.159866 seconds to execute.\n",
      "Running iteration 48/100\n",
      "count_words_with_dict took 1.018678 seconds to execute.\n",
      "count_words_with_counter took 0.987103 seconds to execute.\n",
      "Running iteration 49/100\n",
      "count_words_with_dict took 1.988188 seconds to execute.\n",
      "count_words_with_counter took 1.350663 seconds to execute.\n",
      "Running iteration 50/100\n",
      "count_words_with_dict took 0.993222 seconds to execute.\n",
      "count_words_with_counter took 1.017791 seconds to execute.\n",
      "Running iteration 51/100\n",
      "count_words_with_dict took 1.193813 seconds to execute.\n",
      "count_words_with_counter took 1.201815 seconds to execute.\n",
      "Running iteration 52/100\n",
      "count_words_with_dict took 1.002130 seconds to execute.\n",
      "count_words_with_counter took 1.176778 seconds to execute.\n",
      "Running iteration 53/100\n",
      "count_words_with_dict took 0.985683 seconds to execute.\n",
      "count_words_with_counter took 1.141623 seconds to execute.\n",
      "Running iteration 54/100\n",
      "count_words_with_dict took 1.157072 seconds to execute.\n",
      "count_words_with_counter took 1.107821 seconds to execute.\n",
      "Running iteration 55/100\n",
      "count_words_with_dict took 1.156005 seconds to execute.\n",
      "count_words_with_counter took 1.032799 seconds to execute.\n",
      "Running iteration 56/100\n",
      "count_words_with_dict took 1.113592 seconds to execute.\n",
      "count_words_with_counter took 1.309465 seconds to execute.\n",
      "Running iteration 57/100\n",
      "count_words_with_dict took 1.091533 seconds to execute.\n",
      "count_words_with_counter took 1.252921 seconds to execute.\n",
      "Running iteration 58/100\n",
      "count_words_with_dict took 0.924048 seconds to execute.\n",
      "count_words_with_counter took 1.044137 seconds to execute.\n",
      "Running iteration 59/100\n",
      "count_words_with_dict took 1.194778 seconds to execute.\n",
      "count_words_with_counter took 1.252183 seconds to execute.\n",
      "Running iteration 60/100\n",
      "count_words_with_dict took 0.959551 seconds to execute.\n",
      "count_words_with_counter took 1.093312 seconds to execute.\n",
      "Running iteration 61/100\n",
      "count_words_with_dict took 1.114303 seconds to execute.\n",
      "count_words_with_counter took 1.585838 seconds to execute.\n",
      "Running iteration 62/100\n",
      "count_words_with_dict took 0.943089 seconds to execute.\n",
      "count_words_with_counter took 0.980775 seconds to execute.\n",
      "Running iteration 63/100\n",
      "count_words_with_dict took 1.113078 seconds to execute.\n",
      "count_words_with_counter took 1.691976 seconds to execute.\n",
      "Running iteration 64/100\n",
      "count_words_with_dict took 1.423289 seconds to execute.\n",
      "count_words_with_counter took 1.408261 seconds to execute.\n",
      "Running iteration 65/100\n",
      "count_words_with_dict took 1.275190 seconds to execute.\n",
      "count_words_with_counter took 1.062184 seconds to execute.\n",
      "Running iteration 66/100\n",
      "count_words_with_dict took 1.523893 seconds to execute.\n",
      "count_words_with_counter took 1.005940 seconds to execute.\n",
      "Running iteration 67/100\n",
      "count_words_with_dict took 0.956657 seconds to execute.\n",
      "count_words_with_counter took 1.076716 seconds to execute.\n",
      "Running iteration 68/100\n",
      "count_words_with_dict took 0.981854 seconds to execute.\n",
      "count_words_with_counter took 1.442240 seconds to execute.\n",
      "Running iteration 69/100\n",
      "count_words_with_dict took 0.926095 seconds to execute.\n",
      "count_words_with_counter took 1.627251 seconds to execute.\n",
      "Running iteration 70/100\n",
      "count_words_with_dict took 1.331070 seconds to execute.\n",
      "count_words_with_counter took 3.394799 seconds to execute.\n",
      "Running iteration 71/100\n",
      "count_words_with_dict took 1.378994 seconds to execute.\n",
      "count_words_with_counter took 1.274340 seconds to execute.\n",
      "Running iteration 72/100\n",
      "count_words_with_dict took 1.059083 seconds to execute.\n",
      "count_words_with_counter took 1.081910 seconds to execute.\n",
      "Running iteration 73/100\n",
      "count_words_with_dict took 1.073778 seconds to execute.\n",
      "count_words_with_counter took 1.054500 seconds to execute.\n",
      "Running iteration 74/100\n",
      "count_words_with_dict took 0.957161 seconds to execute.\n",
      "count_words_with_counter took 0.939206 seconds to execute.\n",
      "Running iteration 75/100\n",
      "count_words_with_dict took 0.876943 seconds to execute.\n",
      "count_words_with_counter took 0.936550 seconds to execute.\n",
      "Running iteration 76/100\n",
      "count_words_with_dict took 1.023735 seconds to execute.\n",
      "count_words_with_counter took 1.088578 seconds to execute.\n",
      "Running iteration 77/100\n",
      "count_words_with_dict took 0.914182 seconds to execute.\n",
      "count_words_with_counter took 0.913206 seconds to execute.\n",
      "Running iteration 78/100\n",
      "count_words_with_dict took 0.888991 seconds to execute.\n",
      "count_words_with_counter took 1.500803 seconds to execute.\n",
      "Running iteration 79/100\n",
      "count_words_with_dict took 1.085954 seconds to execute.\n",
      "count_words_with_counter took 1.158059 seconds to execute.\n",
      "Running iteration 80/100\n",
      "count_words_with_dict took 0.999924 seconds to execute.\n",
      "count_words_with_counter took 1.646429 seconds to execute.\n",
      "Running iteration 81/100\n",
      "count_words_with_dict took 1.289360 seconds to execute.\n",
      "count_words_with_counter took 0.910531 seconds to execute.\n",
      "Running iteration 82/100\n",
      "count_words_with_dict took 4.716884 seconds to execute.\n",
      "count_words_with_counter took 4.135239 seconds to execute.\n",
      "Running iteration 83/100\n",
      "count_words_with_dict took 5.193166 seconds to execute.\n",
      "count_words_with_counter took 3.785914 seconds to execute.\n",
      "Running iteration 84/100\n",
      "count_words_with_dict took 4.040878 seconds to execute.\n",
      "count_words_with_counter took 2.479148 seconds to execute.\n",
      "Running iteration 85/100\n",
      "count_words_with_dict took 1.094763 seconds to execute.\n",
      "count_words_with_counter took 1.194444 seconds to execute.\n",
      "Running iteration 86/100\n",
      "count_words_with_dict took 1.145801 seconds to execute.\n",
      "count_words_with_counter took 1.318159 seconds to execute.\n",
      "Running iteration 87/100\n",
      "count_words_with_dict took 1.109506 seconds to execute.\n",
      "count_words_with_counter took 1.262136 seconds to execute.\n",
      "Running iteration 88/100\n",
      "count_words_with_dict took 1.335625 seconds to execute.\n",
      "count_words_with_counter took 1.068391 seconds to execute.\n",
      "Running iteration 89/100\n",
      "count_words_with_dict took 0.957664 seconds to execute.\n",
      "count_words_with_counter took 1.013893 seconds to execute.\n",
      "Running iteration 90/100\n",
      "count_words_with_dict took 1.304260 seconds to execute.\n",
      "count_words_with_counter took 1.343842 seconds to execute.\n",
      "Running iteration 91/100\n",
      "count_words_with_dict took 1.088799 seconds to execute.\n",
      "count_words_with_counter took 1.386707 seconds to execute.\n",
      "Running iteration 92/100\n",
      "count_words_with_dict took 1.014365 seconds to execute.\n",
      "count_words_with_counter took 0.992111 seconds to execute.\n",
      "Running iteration 93/100\n",
      "count_words_with_dict took 1.222338 seconds to execute.\n",
      "count_words_with_counter took 1.010880 seconds to execute.\n",
      "Running iteration 94/100\n",
      "count_words_with_dict took 0.997116 seconds to execute.\n",
      "count_words_with_counter took 1.054983 seconds to execute.\n",
      "Running iteration 95/100\n",
      "count_words_with_dict took 1.049216 seconds to execute.\n",
      "count_words_with_counter took 0.966094 seconds to execute.\n",
      "Running iteration 96/100\n",
      "count_words_with_dict took 0.960975 seconds to execute.\n",
      "count_words_with_counter took 0.979191 seconds to execute.\n",
      "Running iteration 97/100\n",
      "count_words_with_dict took 0.919703 seconds to execute.\n",
      "count_words_with_counter took 1.093133 seconds to execute.\n",
      "Running iteration 98/100\n",
      "count_words_with_dict took 0.971844 seconds to execute.\n",
      "count_words_with_counter took 1.006293 seconds to execute.\n",
      "Running iteration 99/100\n",
      "count_words_with_dict took 1.015808 seconds to execute.\n",
      "count_words_with_counter took 1.151948 seconds to execute.\n"
     ]
    }
   ],
   "source": [
    "execution_times_dict = []\n",
    "execution_times_counter = []\n",
    "number_iterations = 100\n",
    "\n",
    "for _ in range(number_iterations):\n",
    "    print(f\"Running iteration {_}/{number_iterations}\")\n",
    "    execution_time_dict = count_words_with_dict(shakespeare_file)\n",
    "    execution_times_dict.append(execution_time_dict)\n",
    "\n",
    "    execution_time_counter = count_words_with_counter(shakespeare_file)\n",
    "    execution_times_counter.append(execution_time_counter)"
   ]
  },
  {
   "cell_type": "markdown",
   "metadata": {},
   "source": [
    "The results are stocked, we can now see the two distributions of execution times."
   ]
  },
  {
   "cell_type": "code",
   "execution_count": 57,
   "metadata": {},
   "outputs": [
    {
     "name": "stderr",
     "output_type": "stream",
     "text": [
      "C:\\Users\\antoi\\AppData\\Local\\Temp\\ipykernel_29856\\532379273.py:6: FutureWarning: \n",
      "\n",
      "`shade` is now deprecated in favor of `fill`; setting `fill=True`.\n",
      "This will become an error in seaborn v0.14.0; please update your code.\n",
      "\n",
      "  sns.kdeplot(execution_times_dict, shade=True, label=\"Using Dictionary\")\n"
     ]
    },
    {
     "name": "stderr",
     "output_type": "stream",
     "text": [
      "C:\\Users\\antoi\\AppData\\Local\\Temp\\ipykernel_29856\\532379273.py:7: FutureWarning: \n",
      "\n",
      "`shade` is now deprecated in favor of `fill`; setting `fill=True`.\n",
      "This will become an error in seaborn v0.14.0; please update your code.\n",
      "\n",
      "  sns.kdeplot(execution_times_counter, shade=True, label=\"Using Counter\")\n"
     ]
    },
    {
     "data": {
      "image/png": "[encoded data removed]",
      "text/plain": [
       "<Figure size 1200x600 with 1 Axes>"
      ]
     },
     "metadata": {},
     "output_type": "display_data"
    }
   ],
   "source": [
    "import matplotlib.pyplot as plt\n",
    "import seaborn as sns\n",
    "\n",
    "# Plot both lines on the same graph\n",
    "plt.figure(figsize=(12, 6))\n",
    "sns.kdeplot(execution_times_dict, shade=True, label=\"Using Dictionary\")\n",
    "sns.kdeplot(execution_times_counter, shade=True, label=\"Using Counter\")\n",
    "plt.xlabel(\"Execution Time (seconds)\")\n",
    "plt.ylabel(\"Density\")\n",
    "plt.title(\"Kernel Density Plot of Execution Times\")\n",
    "plt.legend()\n",
    "plt.show()\n"
   ]
  },
  {
   "cell_type": "markdown",
   "metadata": {},
   "source": [
    "Lets perform some statistics on the results as well"
   ]
  },
  {
   "cell_type": "code",
   "execution_count": 59,
   "metadata": {},
   "outputs": [
    {
     "name": "stdout",
     "output_type": "stream",
     "text": [
      "Using Dictionary: Mean = 1.303031, Variance = 0.432673\n",
      "Using Counter: Mean = 1.327084, Variance = 0.285475\n"
     ]
    }
   ],
   "source": [
    "import numpy as np\n",
    "\n",
    "mean_dict = np.mean(execution_times_dict)\n",
    "variance_dict = np.var(execution_times_dict)\n",
    "\n",
    "mean_counter = np.mean(execution_times_counter)\n",
    "variance_counter = np.var(execution_times_counter)\n",
    "\n",
    "print(f\"Using Dictionary: Mean = {mean_dict:.6f}, Variance = {variance_dict:.6f}\")\n",
    "print(f\"Using Counter: Mean = {mean_counter:.6f}, Variance = {variance_counter:.6f}\")"
   ]
  },
  {
   "cell_type": "markdown",
   "metadata": {},
   "source": [
    "Ok so looking at the graph distributino of execution times, we can see that when increasing the number of iterations, its Counter that does a btter job, becuse the peak distribution density is higher than for the dictionnary, the distribution is less spread out.  \n",
    "Also when looking at the statistics :\n",
    "```bash\n",
    "Using Dictionary: Mean = 1.303031, Variance = 0.432673\n",
    "Using Counter: Mean = 1.327084, Variance = 0.285475\n",
    "```\n",
    "we can see that using dictionnary helps to have a better mean value (1.3 against 1.327) but the variance is higher (0.432 against 0.285) which means that the distribution is more spread out and again, depending on the use case, we might prefer to have a better variance (btter accuracy) or a better mean (better precision)."
   ]
  }
 ],
 "metadata": {
  "kernelspec": {
   "display_name": "Python 3",
   "language": "python",
   "name": "python3"
  },
  "language_info": {
   "codemirror_mode": {
    "name": "ipython",
    "version": 3
   },
   "file_extension": ".py",
   "mimetype": "text/x-python",
   "name": "python",
   "nbconvert_exporter": "python",
   "pygments_lexer": "ipython3",
   "version": "3.8.7"
  }
 },
 "nbformat": 4,
 "nbformat_minor": 2
}
